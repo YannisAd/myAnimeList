{
 "cells": [
  {
   "cell_type": "code",
   "execution_count": 9,
   "metadata": {},
   "outputs": [],
   "source": [
    "import pandas as pd\n",
    "from collections import Counter\n",
    "import requests\n",
    "import json\n",
    "import time"
   ]
  },
  {
   "attachments": {},
   "cell_type": "markdown",
   "metadata": {},
   "source": [
    "# Simulation d'une requête API REST qui se ferait à chaque ouverture de la page\n",
    "Ici on fait un ensemble de requêtes auprès de l'API Jikan, pour récupérer depuis une liste d'ID les informations sur les animes qui nous intéressent pour les stocker par la suite"
   ]
  },
  {
   "cell_type": "code",
   "execution_count": 15,
   "metadata": {},
   "outputs": [
    {
     "name": "stdout",
     "output_type": "stream",
     "text": [
      "Data saved to data.json\n"
     ]
    }
   ],
   "source": [
    "\n",
    "\n",
    "id_list = [21, 40748, 41433, 39555, 20787, 889, 269, 9919, 11633, 41468, 1, 35849, 1535, 28223, 38000, 35120, 31043, 5114, 384, 41353, 40052, 245, 42625, 11061, 36873, 40748, 14719, 18679, 31964, 10620, 32182, 39535, 37779, 20507, 29803, 22535, 30240, 13601, 40834, 40750, 34612, 205, 43690, 16498, 50265, 48453, 44942, 43697, 46569]\n",
    "output_data = {}\n",
    "\n",
    "for anime_id in id_list:\n",
    "    url = f\"https://api.jikan.moe/v4/anime/{anime_id}\"\n",
    "    response = requests.get(url)\n",
    "    if response.status_code == 200:\n",
    "        anime_data = json.loads(response.text)\n",
    "        selected_data = {\n",
    "            \"images\": anime_data[\"data\"][\"images\"],\n",
    "            \"title\": anime_data[\"data\"][\"title\"],\n",
    "            \"status\": anime_data[\"data\"][\"status\"],\n",
    "            \"duration\": anime_data[\"data\"][\"duration\"],\n",
    "            \"synopsis\": anime_data[\"data\"][\"synopsis\"],\n",
    "            \"genres\": [genre[\"name\"] for genre in anime_data[\"data\"][\"genres\"]],\n",
    "            \"note\" : \"&#9733 &#9733 &#9733 &#9733 &#9734\", \n",
    "            \"avis\" :\"\"\n",
    "        }\n",
    "        output_data[anime_id] = selected_data\n",
    "        time.sleep(1.5)\n",
    "    else:\n",
    "        print(f\"Failed to retrieve data for anime ID: {anime_id}\")\n",
    "\n",
    "with open(\"data.json\", \"w\") as file:\n",
    "    json.dump(output_data, file, indent=4)\n",
    "\n",
    "print(\"Data saved to data.json\")\n"
   ]
  },
  {
   "attachments": {},
   "cell_type": "markdown",
   "metadata": {},
   "source": [
    "## Creation des Card en Html\n",
    "Utilisation des donnée récoltés pour créer des cartes décrivant les animes choisis"
   ]
  },
  {
   "cell_type": "code",
   "execution_count": 8,
   "metadata": {},
   "outputs": [
    {
     "name": "stdout",
     "output_type": "stream",
     "text": [
      "Code HTML généré et enregistré dans index.html\n"
     ]
    }
   ],
   "source": [
    "with open(\"data.json\", \"r\", encoding=\"utf-8\") as file:\n",
    "    data = json.load(file)\n",
    "\n",
    "html_code = \"\"\n",
    "\n",
    "for anime in data:\n",
    "    title = anime[\"title\"]\n",
    "    status = anime[\"status\"]\n",
    "    duration = anime[\"duration\"]\n",
    "    synopsis = anime[\"synopsis\"]\n",
    "    genres = anime[\"genres\"]\n",
    "    genres_string = \", \".join(genres)\n",
    "    genres_string2 = \" \".join(genres)\n",
    "    genres_string2 = genres_string2.lower()\n",
    "\n",
    "    html_code += f'''\n",
    "    <div class=\"col-lg-4 col-md-6 {genres_string2}\">\n",
    "        <div class=\"product-item\">\n",
    "            <div class=\"product-img\">\n",
    "                <img src=\"{anime['images']['jpg']['image_url']}\" class=\"img-fluid d-block mx-auto\">\n",
    "            </div>\n",
    "            <div class=\"product-content text-center py-3\">\n",
    "                <span class=\"d-block text-uppercase fw-bold\" id=\"titre\">{title}</span>\n",
    "                <span class=\"d-block\" id=\"status\">{status} épisodes</span>\n",
    "                <span class=\"d-block\" id=\"synopsis\">{synopsis}</span>\n",
    "                <span class=\"d-block\">Statut: {status}</span>\n",
    "                <span class=\"d-block\">Durée: {duration}</span>\n",
    "                <span class=\"d-block\">Genres: {genres_string}</span>\n",
    "            </div>\n",
    "        </div>\n",
    "    </div>\n",
    "    '''\n",
    "\n",
    "# Read the index.html file\n",
    "with open(\"index.html\", \"r\", encoding=\"utf-8\") as file:\n",
    "    index_html = file.read()\n",
    "\n",
    "# Find the placeholder <div id=\"anime-list\"></div> in index.html and replace it with the generated HTML code\n",
    "updated_index_html = index_html.replace('<div id=\"anime-list\"></div>', f'<div id=\"anime-list\" class=\"row justify-content-center g-4\">{html_code}</div>')\n",
    "\n",
    "# Write the updated HTML code back to index.html\n",
    "with open(\"index.html\", \"w\", encoding=\"utf-8\") as file:\n",
    "    file.write(updated_index_html)\n",
    "\n",
    "print(\"Code HTML généré et enregistré dans index.html\")\n"
   ]
  },
  {
   "attachments": {},
   "cell_type": "markdown",
   "metadata": {},
   "source": [
    "## Analyse des données pour choisir les filtres de genres\n",
    "Analyse du nombre d'occurrences des genres et de la pertinence de ces derniers (choisir ceux qui décrivent le plus sans être redondant)"
   ]
  },
  {
   "cell_type": "code",
   "execution_count": 4,
   "metadata": {},
   "outputs": [
    {
     "name": "stdout",
     "output_type": "stream",
     "text": [
      "Tableau de corrélation des genres :\n",
      "               Action  Adventure  Fantasy  Award Winning  Sci-Fi  Sports  \\\n",
      "Action              0          9       16              6       7       0   \n",
      "Adventure           9          0        8              0       0       0   \n",
      "Fantasy            16          8        0              3       1       0   \n",
      "Award Winning       6          0        3              0       1       0   \n",
      "Sci-Fi              7          0        1              1       0       0   \n",
      "Sports              0          0        0              0       0       0   \n",
      "Mystery             3          1        1              0       2       0   \n",
      "Comedy              5          1        1              1       0       0   \n",
      "Drama               6          2        4              1       2       0   \n",
      "Romance             1          0        0              0       1       0   \n",
      "Supernatural        4          1        0              0       0       0   \n",
      "Suspense            3          0        1              1       2       0   \n",
      "Avant Garde         1          0        0              0       0       0   \n",
      "Horror              4          0        0              0       2       0   \n",
      "Ecchi               1          0        1              0       0       0   \n",
      "Erotica             0          1        1              0       0       0   \n",
      "\n",
      "               Mystery  Comedy  Drama  Romance  Supernatural  Suspense  \\\n",
      "Action               3       5      6        1             4         3   \n",
      "Adventure            1       1      2        0             1         0   \n",
      "Fantasy              1       1      4        0             0         1   \n",
      "Award Winning        0       1      1        0             0         1   \n",
      "Sci-Fi               2       0      2        1             0         2   \n",
      "Sports               0       0      0        0             0         0   \n",
      "Mystery              0       0      0        0             1         2   \n",
      "Comedy               0       0      0        1             2         0   \n",
      "Drama                0       0      0        1             1         3   \n",
      "Romance              0       1      1        0             0         0   \n",
      "Supernatural         1       2      1        0             0         3   \n",
      "Suspense             2       0      3        0             3         0   \n",
      "Avant Garde          0       0      0        0             1         0   \n",
      "Horror               1       0      1        0             1         0   \n",
      "Ecchi                0       3      1        1             0         0   \n",
      "Erotica              0       0      1        0             0         0   \n",
      "\n",
      "               Avant Garde  Horror  Ecchi  Erotica  \n",
      "Action                   1       4      1        0  \n",
      "Adventure                0       0      0        1  \n",
      "Fantasy                  0       0      1        1  \n",
      "Award Winning            0       0      0        0  \n",
      "Sci-Fi                   0       2      0        0  \n",
      "Sports                   0       0      0        0  \n",
      "Mystery                  0       1      0        0  \n",
      "Comedy                   0       0      3        0  \n",
      "Drama                    0       1      1        1  \n",
      "Romance                  0       0      1        0  \n",
      "Supernatural             1       1      0        0  \n",
      "Suspense                 0       0      0        0  \n",
      "Avant Garde              0       1      0        0  \n",
      "Horror                   1       0      0        0  \n",
      "Ecchi                    0       0      0        0  \n",
      "Erotica                  0       0      0        0  \n"
     ]
    }
   ],
   "source": [
    "import json\n",
    "import pandas as pd\n",
    "from collections import Counter\n",
    "\n",
    "# Charger les données depuis le fichier JSON\n",
    "with open(\"data.json\", \"r\", encoding=\"utf-8\") as file:\n",
    "    data = json.load(file)\n",
    "\n",
    "# Créer une liste avec tous les genres\n",
    "all_genres = [genre for anime in data for genre in anime[\"genres\"]]\n",
    "\n",
    "# Créer un dictionnaire de genres avec leur nombre d'occurrences\n",
    "genre_counts = dict(Counter(all_genres))\n",
    "\n",
    "# Créer une matrice de corrélation des genres\n",
    "correlation_matrix = pd.DataFrame(0, index=genre_counts.keys(), columns=genre_counts.keys())\n",
    "\n",
    "# Parcourir chaque anime pour mettre à jour la matrice de corrélation\n",
    "for anime in data:\n",
    "    genres = anime[\"genres\"]\n",
    "    for genre1 in genres:\n",
    "        for genre2 in genres:\n",
    "            if genre1 != genre2:\n",
    "                correlation_matrix.loc[genre1, genre2] += 1\n",
    "\n",
    "# Afficher la matrice de corrélation\n",
    "print(\"Tableau de corrélation des genres :\")\n",
    "print(correlation_matrix)\n"
   ]
  },
  {
   "attachments": {},
   "cell_type": "markdown",
   "metadata": {},
   "source": [
    "Les critères pour être représentatif : \n",
    "- Avoir un grand nombre d'occurrence\n",
    "- Tous les anime doivent avoir au moins un des genres représentatifs\n",
    "- Ne doit pas être toujours présent avec le même autre genre (pas assez discriminatif)"
   ]
  },
  {
   "cell_type": "code",
   "execution_count": 7,
   "metadata": {},
   "outputs": [
    {
     "name": "stdout",
     "output_type": "stream",
     "text": [
      "Les 6 genres les plus représentatifs qui satisfont les critères spécifiés :\n",
      "Action\n",
      "Fantasy\n",
      "Adventure\n",
      "Ecchi\n",
      "Romance\n",
      "Sports\n"
     ]
    }
   ],
   "source": [
    "from collections import Counter\n",
    "\n",
    "# Obtenir les genres avec les occurrences les plus élevées\n",
    "top_genres = sorted(genre_counts.items(), key=lambda x: x[1], reverse=True)\n",
    "\n",
    "# Initialiser avec les genres du premier élément\n",
    "selected_genres = set(data[0][\"genres\"])\n",
    "\n",
    "# Filtrer les genres en fonction des critères\n",
    "for genre, count in top_genres:\n",
    "    if len(selected_genres) == 6:\n",
    "        break\n",
    "    if all(correlation_matrix.loc[genre, selected_genre] <= 1 for selected_genre in selected_genres):\n",
    "        selected_genres.add(genre)\n",
    "\n",
    "# Trier les genres sélectionnés par nombre d'occurrences\n",
    "selected_genres = sorted(selected_genres, key=lambda x: genre_counts[x], reverse=True)\n",
    "\n",
    "# Afficher les 6 genres les plus représentatifs\n",
    "print(\"Les 6 genres les plus représentatifs qui satisfont les critères spécifiés :\")\n",
    "for genre in selected_genres:\n",
    "    print(genre)\n"
   ]
  }
 ],
 "metadata": {
  "kernelspec": {
   "display_name": "Python 3",
   "language": "python",
   "name": "python3"
  },
  "language_info": {
   "codemirror_mode": {
    "name": "ipython",
    "version": 3
   },
   "file_extension": ".py",
   "mimetype": "text/x-python",
   "name": "python",
   "nbconvert_exporter": "python",
   "pygments_lexer": "ipython3",
   "version": "3.10.2"
  },
  "orig_nbformat": 4
 },
 "nbformat": 4,
 "nbformat_minor": 2
}
